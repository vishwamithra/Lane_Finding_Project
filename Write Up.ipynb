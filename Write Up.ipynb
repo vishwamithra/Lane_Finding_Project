{
 "cells": [
  {
   "cell_type": "markdown",
   "metadata": {},
   "source": [
    "# **Finding Lane Lines on the Road** "
   ]
  },
  {
   "cell_type": "markdown",
   "metadata": {},
   "source": [
    "The goals / steps of this project are the following:\n",
    "* Make a pipeline that finds lane lines on the road\n",
    "* Reflect on your work in a written report"
   ]
  },
  {
   "cell_type": "markdown",
   "metadata": {},
   "source": [
    "### Reflection"
   ]
  },
  {
   "cell_type": "markdown",
   "metadata": {},
   "source": [
    "### 1. Describe your pipeline. As part of the description, explain how you modified the draw_lines() function."
   ]
  },
  {
   "cell_type": "markdown",
   "metadata": {},
   "source": [
    "I initially applied various techniques taught in course on given test images. By doing so, I obtained various required parameters to build a pipeline that can be used to find lane lines in video stream. I applied techniques like  \n",
    "\n",
    "Gray Scale Transformation: we convert selected image to gray scale image because a gray scale image contains bright and light points. These points are then used to obtain rapid changes in brightness and thereby are used to detect edges.\n",
    "\n",
    "Gaussian Filtering: We also apply gaussian smoothening on the gray scale image before running it throug canny edge detection, because we want to avoid any noise and spurious gradients. Chose a kernel size of 15 to smooth over a larger area.\n",
    "\n",
    "Canny Edge Detection: The smoothened image is run through canny edge detection function to obtain edge image. As was taught in course, a ratio of either 1:2 or 1:3 for low_threshold and high_threshold is recommended by Canny. So, by trial and error, a set of values are choosen for low_threshold and high_threshold by testing on all test images.\n",
    "\n",
    "Region of Interest: Canny edge detection will detect all possible edges based on the parameters provided. But, in finding lane lines in a road image, we are only interested in particular region where lane lines might be found. So, we select a polygonal region on edge detected image to find lane lines ignoring all other edges. \n",
    "Knowing the dimensions of the image, a set of vertices for ROI polygon were choosen by trial and error method. \n",
    "Initially started by selecting the whole image as ROI polygon, and then shrinked the polygon accordingly to get an appropriate ROI.\n",
    "\n",
    "Hough Transform: We run the hough transform on the edge points detected within ROI. As taught in course, parameters like rho, theta, threshold, min_line_length, max_line_gap are used to to obtain coordinates of lines in hough space.\n",
    "Applied hough transform on provided test images and all lines within ROI were detected. But, we need two lines ideally which would be left lane and right lane.  \n",
    "The lines obtained from hough transform are used to segregate points on left line and right line by using slope. If slope is less than zero, then those are the points lying on left line and others on right line. Collected these left line points and right line points, and then used polyfit to fit a single order equation of form y=mx+c for these points. Then using polyfit we obtain coefficients of equation, which are slope and intercept.\n",
    "Using slope and intercept, we obtain coordinates of left lane and right lane to draw them. \n",
    "\n",
    "These lines are then drawn on original image.\n",
    "\n",
    "After applying above techniques on all provided test images, various required parameters for each technique are selected to build a pipeline. \n",
    "\n",
    "Then, given two videos are run through the pipeline to detect lane lines. In both videos, lane lines seem to be detected correctly. \n"
   ]
  },
  {
   "cell_type": "markdown",
   "metadata": {},
   "source": [
    "### 2. Identify potential shortcomings with your current pipeline"
   ]
  },
  {
   "cell_type": "markdown",
   "metadata": {},
   "source": [
    "1 : The pipeline built will work fine when the vehicle is moving straight forward. But, vehicle driving on curvy, uneven, and steep roads it might not work properly. In those case, we need to detect curvy lines instead of straight lines. Curve fitting techniques can be used handle such cases. \n",
    "2 : If there are more edges detected within ROI between left and right lanes, then it might disrupt hough transform and output incorrect lines. \n",
    "3 : ROI may vary in each frame of video and hence should be appropriately chosen. For vehicles driving on steep roads, ROI should be chosen appropriately such that no sky or hills are within ROI.\n",
    "\n"
   ]
  },
  {
   "cell_type": "markdown",
   "metadata": {},
   "source": [
    "### 3. Suggest possible improvements to your pipeline"
   ]
  },
  {
   "cell_type": "markdown",
   "metadata": {},
   "source": [
    "A major possible improvement would be to be able to detect curvy lines and select ROI appropriately in different scenarios."
   ]
  }
 ],
 "metadata": {
  "kernelspec": {
   "display_name": "Python 3",
   "language": "python",
   "name": "python3"
  },
  "language_info": {
   "codemirror_mode": {
    "name": "ipython",
    "version": 3
   },
   "file_extension": ".py",
   "mimetype": "text/x-python",
   "name": "python",
   "nbconvert_exporter": "python",
   "pygments_lexer": "ipython3",
   "version": "3.6.3"
  }
 },
 "nbformat": 4,
 "nbformat_minor": 2
}
